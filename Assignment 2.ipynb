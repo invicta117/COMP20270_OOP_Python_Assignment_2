{
 "cells": [
  {
   "cell_type": "code",
   "execution_count": null,
   "metadata": {},
   "outputs": [],
   "source": [
    "import pandas as pd\n",
    " \n",
    "d = {'Sun Hours': [4.5,4.0,5.1,5],\n",
    "     'Max Temp': [19.6,19.1,19.6,20.0],\n",
    "     'Min Temp': [12.7,12.5,13.3,12.1],\n",
    "     'Rain (mm)': [82,109,65,76],\n",
    "     'Rain Days': [13,20,10,9.7]}\n",
    "Aug_df = pd.DataFrame(d, index = ['Clare', 'Galway','Dublin', 'Wexford'])\n",
    "Aug_df"
   ]
  },
  {
   "cell_type": "code",
   "execution_count": null,
   "metadata": {},
   "outputs": [],
   "source": [
    "Aug_df.sort_values('Rain Days')"
   ]
  },
  {
   "cell_type": "code",
   "execution_count": null,
   "metadata": {},
   "outputs": [],
   "source": [
    "Aug_df.max()"
   ]
  },
  {
   "cell_type": "code",
   "execution_count": null,
   "metadata": {},
   "outputs": [],
   "source": [
    "Aug_df.min()"
   ]
  },
  {
   "cell_type": "markdown",
   "metadata": {},
   "source": [
    "# Design decisions MySeries\n",
    "\n",
    "The design decisions for the MySeries class was to convert all the differnet types of input to a dictionary so that they could all have the same code once they were all in standard form. If no index was passed and the data is not a dictionary a index is created for the MySeries instance.\n",
    "\n",
    "<b>Requirement 2 min, max and mean:</b> It was decided to return None if there was no values that could be returned for the max, min and mean, as strings do not have a mean and can not be applied to the sum built in python function, as min and max can be applied to strings also these were allowed to return the alphabetical min and max\n",
    "\n",
    "<b>Requirement 8 constructor error checking:</b>\n",
    "There area a number of checks made on the s_dict and index values passed to ensure that the data provided is consistent and can be constructed into a data frame as per requirement 8. Index is checked that the index passed is either a list or an tuple, these were chosen as all other types would cause a failure further on, this prevents the user from creating an series with invaid data. A TypeError is raised indicating to the user that this is invalid data preventing the instance from being created. Also the index values are checked to ensure that they are unique and if they are not the instance construction is abandoned.\n",
    "\n",
    "The attribute s_dict first checks that the passed series is either a dictionary, list or a tuple, all other types cause an exception to be raised, this error handling was chosen to prevent the creation of the class instance when this condition is not met. We also check that the length of the passed index is the same length as the length of the data. Finally we check that the data passed is of a consistent type, we do not allow a series to be created that has more than one data type except for floats and ints as these are allowed to be used together. This ensures that the min, max and mean will work and we will have consitent data. For example mixed series of int and string could cause problems later."
   ]
  },
  {
   "cell_type": "code",
   "execution_count": null,
   "metadata": {},
   "outputs": [],
   "source": [
    "class MySeries():\n",
    "    def __init__(self, s_dict, **kwargs):\n",
    "        if type(s_dict) not in (list, tuple, dict): raise TypeError (\"Incorrect series type\")\n",
    "            # raise an error if the user tries to use\n",
    "            # a data structure that is not recognised by the the class MySeries\n",
    "        if \"index\" in kwargs:\n",
    "            if type(kwargs[\"index\"]) not in (tuple, list): raise TypeError(\"Incorrect index type used for index\")\n",
    "            if len(set(kwargs[\"index\"])) != len(kwargs[\"index\"]): raise ValueError(\"Index values must be unique\")\n",
    "            self.index = kwargs[\"index\"]\n",
    "        elif isinstance(s_dict, dict):\n",
    "            self.index = list(s_dict.keys())\n",
    "        else:\n",
    "            self.index = [i for i in range(len(s_dict))]\n",
    "\n",
    "        if len(self.index) != len(s_dict):\n",
    "            raise IndexError(\"Index and series do not have same number of args\") # don't want to create series if there\n",
    "            # is a different number of values and indices\n",
    "            \n",
    "        if isinstance(s_dict, dict):\n",
    "            self.s_dict = s_dict\n",
    "        elif isinstance(s_dict, list) or isinstance(s_dict, tuple):\n",
    "            self.s_dict = dict(zip(self.index, s_dict))\n",
    "        \n",
    "        self.values = list(self.s_dict.values())\n",
    "        for i in range(len(self.values) - 1): # as per requirement 8 make sure that the data is consitent type\n",
    "            # for example we do not want a series with type str and int together as this will break min max mean etc\n",
    "            if type(self.values[i]) != type(self.values[i+1]) \\\n",
    "            and not ((type(self.values[i]) in (float, int)) and (type(self.values[i + 1]) in (float, int))):\n",
    "                # the only mixed type we will allow is int and float together\n",
    "                raise ValueError (\"Data must be of consistent type\")\n",
    "        \n",
    "            \n",
    "    def item_at_ind(self, key):\n",
    "        return self.s_dict[key]\n",
    "\n",
    "    def min(self):\n",
    "        return min(self.values)\n",
    "\n",
    "    def max(self):\n",
    "        return max(self.values)\n",
    "\n",
    "\n",
    "    def mean(self):\n",
    "        # can only sum ints or floats\n",
    "        nums = [i for i in self.s_dict.values() if type(i) in (float, int)] # can't get mean of a string\n",
    "        if len(nums) > 0:\n",
    "            return sum(self.s_dict.values())/len(self.s_dict)\n",
    "        return None\n",
    "\n",
    "    def print(self):\n",
    "        for i, j in self.s_dict.items():\n",
    "            print(\"{0:5} {1:5}\".format(i, j))"
   ]
  },
  {
   "cell_type": "code",
   "execution_count": null,
   "metadata": {},
   "outputs": [],
   "source": [
    "ms3 = MySeries([1,2,1], index = ['a','b','c'])\n",
    "ms3.s_dict"
   ]
  },
  {
   "cell_type": "code",
   "execution_count": null,
   "metadata": {},
   "outputs": [],
   "source": [
    "ms4 = MySeries([4,5,6])\n",
    "ms4.s_dict"
   ]
  },
  {
   "cell_type": "code",
   "execution_count": null,
   "metadata": {},
   "outputs": [],
   "source": [
    "d = {'b': 1, 'a': 0, 'c': 2}\n",
    "s2 = MySeries(d)\n",
    "s2.s_dict"
   ]
  },
  {
   "cell_type": "code",
   "execution_count": null,
   "metadata": {},
   "outputs": [],
   "source": [
    "print(\"min:\", ms4.min(), \"max:\", ms4.max(), \"mean:\", ms4.mean())"
   ]
  },
  {
   "cell_type": "code",
   "execution_count": null,
   "metadata": {},
   "outputs": [],
   "source": [
    "ms5 = MySeries([\"abba\",\"aardvark\",\"zebra\"], index = ['a','b','c'])\n",
    "print(\"min:\", ms5.min(), \"max:\", ms5.max(), \"mean:\", ms5.mean())"
   ]
  },
  {
   "cell_type": "code",
   "execution_count": null,
   "metadata": {},
   "outputs": [],
   "source": [
    "ms3 = MySeries([1,2,1], index = ['a','b','c'])\n",
    "ms3.print()"
   ]
  },
  {
   "cell_type": "code",
   "execution_count": null,
   "metadata": {},
   "outputs": [],
   "source": [
    "ms3.item_at_ind('c')"
   ]
  },
  {
   "cell_type": "markdown",
   "metadata": {},
   "source": [
    "# Design decisions MyDataFrame\n",
    "\n",
    "<b>Requirement 4 MyDataFrame:</b> Each column corresponds to a dictionary with the key representing the column header and the column values correspond to an instance of the MySeries class as per the given instructions. The index passed into the MyDataFrame was stored as a attribute <i>index</i>, this allowed for the MySeries instance to use these as identifiers for each row. This also allowed values to be sorted more easily as rearranging this <i>index</i> list changed the order of the printed MyDataFrame instance. When no index was passed to the MyDataFrame one was created inside the class with numeric values representing the rows. This allowed printing to be done more easily as the rows could be accessed with the names in this list and allowed each value from the MySeries instance to be fetched and printed.\n",
    "\n",
    "<b>Requirement 6 Sorting:</b> rather than sorting the entire data frame we sort just the index which reflects the order that the rows are ouput. This allows us to sort in-place as no new copy of the data-frame is created. Form the wiki on in place algrothims https://en.wikipedia.org/wiki/In-place_algorithm bubble sort is a in place algrothim, this was used to sort the index attribute which allowed the printing to be sorted. Since the columns are stored as MySeries instances, there is no sorting that needs to be done on the columns as sorting a dictionary produces the same dictionary, the order does not matter as they are accessed by key not index.\n",
    "\n",
    "<b>Requirement 7 mean, max and min:</b> String values that are sorted by mean are not output as per the example of films, this was caught by checking if MySeries returned none.\n",
    "\n",
    "<b>Requirement 8 constructor error checking:</b> Most of the actual data checks are implemented in MySeries, these are not overwritten as they provide all necessary detail on data being consistent. Data consistency checks in the MyDataFrame class are that the number of values in the columns passed are the same, we do not want to have a situation where there are more rows in one column as this would crash the printing process later on, this was avoided by raising a exception to the user when they try and create an instance of the MyDataFrame class with inconsistent row values. Index values were not checked as these are passed directly to the MySeries constructor which will handle any inconsistencies. The first check in the constructor for the MyDataFrame is that the data is a dictionary as described in requirement 4, an attempt to use another type will raise an error and the instance will not be created."
   ]
  },
  {
   "cell_type": "code",
   "execution_count": null,
   "metadata": {},
   "outputs": [],
   "source": [
    "class MyDataFrame(MySeries):\n",
    "    def __init__(self, d, **kwargs):\n",
    "        if not isinstance(d, dict): raise TypeError(\"Incorrect type for data\")\n",
    "        # error checking to ensure that the data used is in the dictionary form as stated in 4, implemented as part of 8\n",
    "        self.collength = 0 # error checking that the number of values used in the cols is consistent\n",
    "        for j in d.values():\n",
    "            if len(j) != self.collength and self.collength != 0:\n",
    "                raise ValueError (\"Please ensure all columns have equal length\")\n",
    "            self.collength = len(j)\n",
    "        self.cols = {}\n",
    "        if \"index\" in kwargs:\n",
    "            self.index = kwargs[\"index\"]\n",
    "        else:\n",
    "            self.index = [i for i in range(self.collength)]\n",
    "        # error checking for the index is implemented in MySeries so not implemented again here\n",
    "        # will fail if the index does not match the number of data values\n",
    "        for i, j in d.items():       \n",
    "            self.cols[i] = MySeries(j, index=self.index)\n",
    "        # consistency of the data is implemented in MySeries so not implemented here again\n",
    "    \n",
    "    def print(self):\n",
    "        print(\" \" * 15, end=\"\")\n",
    "        for key in self.cols.keys():\n",
    "            print(\"{:>15}\".format(key), end=\"\")\n",
    "            # < and > align used here and in the following comes from\n",
    "            # https://stackoverflow.com/questions/8234445/format-output-string-right-alignment\n",
    "        print()\n",
    "        for i in self.index:\n",
    "            print(\"{:<15}\".format(i), end=\"\")\n",
    "            for myseries in list(self.cols.values()):\n",
    "                print(\"{:>15}\".format(myseries.item_at_ind(i)), end=\"\")\n",
    "            print()\n",
    "            \n",
    "    def sort_values(self, col): \n",
    "        # this implementation of bubble sort is based on pseudocode from \n",
    "        # https://en.wikipedia.org/wiki/Bubble_sort\n",
    "        sort = True\n",
    "        while sort:\n",
    "            sort = False\n",
    "            for i in range(len(self.index) - 1):\n",
    "                if self.cols[col].s_dict[self.index[i]] > self.cols[col].s_dict[self.index[i + 1]]:\n",
    "                    self.index[i], self.index[i + 1] = self.index[i + 1], self.index[i] \n",
    "                    sort = True\n",
    "\n",
    "    def mean(self):\n",
    "        for col in self.cols:\n",
    "            m = self.cols[col].mean()\n",
    "            if m != None: print(\"{0:15} {1:10.2f}\".format(col, self.cols[col].mean()))\n",
    "            \n",
    "    def max(self):\n",
    "        for col in self.cols:\n",
    "            if type(self.cols[col].max()) == str:\n",
    "                print(\"{0:15} {1:>10}\".format(col, self.cols[col].max()))\n",
    "            else:\n",
    "                print(\"{0:15} {1:10.2f}\".format(col, self.cols[col].max()))\n",
    "            \n",
    "    def min(self):\n",
    "        for col in self.cols:\n",
    "            if type(self.cols[col].min()) == str:\n",
    "                print(\"{0:15} {1:>10}\".format(col, self.cols[col].min()))\n",
    "            else:\n",
    "                print(\"{0:15} {1:10.2f}\".format(col, self.cols[col].min()))\n",
    "            \n",
    "        "
   ]
  },
  {
   "cell_type": "code",
   "execution_count": null,
   "metadata": {},
   "outputs": [],
   "source": [
    "d = {'Sun Hours': [4.5,4.0,5.1,5],\n",
    "     'Max Temp': [19.6,19.1,19.6,20.0],\n",
    "     'Min Temp': [12.7,12.5,13.3,12.1],\n",
    "     'Rain (mm)': [82,109,65,76],\n",
    "     'Rain Days': [13,20,10,9.7]}\n",
    "df1 = MyDataFrame(d)\n",
    "df2 = MyDataFrame(d, index = ['Clare', 'Galway','Dublin', \n",
    "  'Wexford'])"
   ]
  },
  {
   "cell_type": "code",
   "execution_count": null,
   "metadata": {},
   "outputs": [],
   "source": [
    "df2.print()"
   ]
  },
  {
   "cell_type": "code",
   "execution_count": null,
   "metadata": {},
   "outputs": [],
   "source": [
    "df2.sort_values('Rain (mm)')\n",
    "df2.print()"
   ]
  },
  {
   "cell_type": "code",
   "execution_count": null,
   "metadata": {
    "scrolled": true
   },
   "outputs": [],
   "source": [
    "df2.mean()"
   ]
  },
  {
   "cell_type": "code",
   "execution_count": null,
   "metadata": {},
   "outputs": [],
   "source": [
    "df2.max()"
   ]
  },
  {
   "cell_type": "code",
   "execution_count": null,
   "metadata": {},
   "outputs": [],
   "source": [
    "df2.min()"
   ]
  },
  {
   "cell_type": "code",
   "execution_count": null,
   "metadata": {},
   "outputs": [],
   "source": [
    "films = {'Rank': [112,62,41,172,230,176],\n",
    "        'Release Year': [1973,1980,1960,2015,1976,1996],\n",
    "        'IMDB Rating': [8.3,8.4,8.5,8.1,8.1,8.1],\n",
    "        'Time (minutes)': [129,146,109,118,120,98],\n",
    "        'Main Genre': ['Comedy','Horror','Horror','Drama','Drama','Drama']}\n",
    "f_names = ['Sting','Shining', 'Psycho','Room','Rocky','Fargo']\n",
    "\n",
    "films_df =  MyDataFrame(films, index = f_names) \n",
    "films_df.print()"
   ]
  },
  {
   "cell_type": "code",
   "execution_count": null,
   "metadata": {},
   "outputs": [],
   "source": [
    "films_df.mean()"
   ]
  },
  {
   "cell_type": "code",
   "execution_count": null,
   "metadata": {},
   "outputs": [],
   "source": [
    "films_df.sort_values('Release Year')\n",
    "films_df.print()"
   ]
  },
  {
   "cell_type": "code",
   "execution_count": null,
   "metadata": {},
   "outputs": [],
   "source": [
    "films_df.sort_values('Main Genre')\n",
    "films_df.print()"
   ]
  }
 ],
 "metadata": {
  "kernelspec": {
   "display_name": "Python 3",
   "language": "python",
   "name": "python3"
  },
  "language_info": {
   "codemirror_mode": {
    "name": "ipython",
    "version": 3
   },
   "file_extension": ".py",
   "mimetype": "text/x-python",
   "name": "python",
   "nbconvert_exporter": "python",
   "pygments_lexer": "ipython3",
   "version": "3.8.3"
  }
 },
 "nbformat": 4,
 "nbformat_minor": 4
}
